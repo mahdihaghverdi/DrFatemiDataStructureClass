{
 "cells": [
  {
   "cell_type": "markdown",
   "id": "d04ec721",
   "metadata": {},
   "source": [
    "# Loop Finder\n",
    "\n",
    "#### Get the first head\n",
    "```\n",
    "first = L.head.data\n",
    "```\n",
    "\n",
    "#### Store the data in an array. We will use this array to check if we reached a repeated data or not\n",
    "```\n",
    "data = []\n",
    "data.append(first)\n",
    "```\n",
    "\n",
    "#### loop through the linked list and check if you reached a repeated data or not\n",
    "```\n",
    "next = first.next\n",
    "\n",
    "while next is not None:\n",
    "    got = next.data\n",
    "    if got in data:\n",
    "        # we have reached a repeated data\n",
    "        return True  # means yes we have a loop\n",
    "    data.append(got)\n",
    "\n",
    "return False\n",
    "```"
   ]
  }
 ],
 "metadata": {
  "kernelspec": {
   "display_name": "Python 3 (ipykernel)",
   "language": "python",
   "name": "python3"
  },
  "language_info": {
   "codemirror_mode": {
    "name": "ipython",
    "version": 3
   },
   "file_extension": ".py",
   "mimetype": "text/x-python",
   "name": "python",
   "nbconvert_exporter": "python",
   "pygments_lexer": "ipython3",
   "version": "3.10.6"
  }
 },
 "nbformat": 4,
 "nbformat_minor": 5
}
