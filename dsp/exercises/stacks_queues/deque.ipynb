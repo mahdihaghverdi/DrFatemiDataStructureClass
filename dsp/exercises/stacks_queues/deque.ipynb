{
 "cells": [
  {
   "cell_type": "markdown",
   "id": "688687a3",
   "metadata": {},
   "source": [
    "# Implement a `deque` with an array\n",
    "\n",
    "To implement this datatype we should use something called: `cicular array`. This is not a specific array, but we store two pointer to recognise where is the front and where is the rear of our deque\n",
    "\n",
    "```\n",
    "-------------------------------------------------------\n",
    "|  6  |  5  |  4  |     |     |     |  3  |  2  |  1  |\n",
    "-------------------------------------------------------\n",
    "               ^                       ^\n",
    "               |                       |\n",
    "              rear                   front\n",
    "```\n",
    "\n",
    "### Datatype specifications:\n",
    "```\n",
    "datatype: deque\n",
    "methods: appendleft, append, popleft, pop\n",
    "attributes: underlying_carray\n",
    "```\n",
    "\n",
    "- Implementation of `appendleft`:\n",
    "    - if the array is full, it is not possible\n",
    "    - if the array is empty, it means front and rear are `-1`, so increment them and set: `self.underlying_carray[front] = x`\n",
    "    - else, decrement front and set: \n",
    "    `self.underlying_carray[front] = x`\n",
    "    \n",
    "    \n",
    "- Implementation of `append`:\n",
    "    - if the array is full, it is not possible\n",
    "    - if the array is empty, it means front and reat are `-1`, so increment them and set: `self.underlying_carray[rear] = x`\n",
    "    - else increment rear and set: `self.underlying_carray[rear] = x`\n",
    "    \n",
    "\n",
    "- Implementation of `popleft`:\n",
    "    - if the array is empty, return\n",
    "    - if there is only one element in the deque, store `to_ret = self.underlying_carray[front]` and set: `front, rear = -1, -1` and return `to_ret`\n",
    "    - else store `to_ret = self.underlying_carray[front]` and increment front by one and return `to_ret`\n",
    "    \n",
    "    \n",
    "- Implementation of `pop`:\n",
    "    - if the array is empty, return\n",
    "    - if there is only one element in the deque, store `to_ret = self.underlying_carray[rear]` and set: `front, rear = -1, -1` and return `to_ret`\n",
    "    - else store `to_ret = self.underlying_carray[rear]` and decrement rear by one and return `to_ret`"
   ]
  }
 ],
 "metadata": {
  "kernelspec": {
   "display_name": "Python 3 (ipykernel)",
   "language": "python",
   "name": "python3"
  },
  "language_info": {
   "codemirror_mode": {
    "name": "ipython",
    "version": 3
   },
   "file_extension": ".py",
   "mimetype": "text/x-python",
   "name": "python",
   "nbconvert_exporter": "python",
   "pygments_lexer": "ipython3",
   "version": "3.10.7"
  }
 },
 "nbformat": 4,
 "nbformat_minor": 5
}
