{
 "cells": [
  {
   "cell_type": "markdown",
   "id": "9e7d5542",
   "metadata": {},
   "source": [
    "# Tell if L and M (two circularly linkedlists) contain the same data\n",
    "\n",
    "#### Store the first head\n",
    "```\n",
    "first_head = M.head\n",
    "second_head = None\n",
    "```\n",
    "\n",
    "#### Let's find the second's head\n",
    "```\n",
    "for node in L:\n",
    "    if node.data == first_head.data:\n",
    "        # head is found\n",
    "        second_head = node\n",
    "        break\n",
    "```\n",
    "\n",
    "#### If nothing is found (second_head is None,) return False\n",
    "```\n",
    "if second_head is None:\n",
    "    return False\n",
    "```\n",
    "\n",
    "#### Store the data in two arrays and compare the arrays :)\n",
    "```\n",
    "first_data = M.get_all_data()  # it will iterate through that linkedlist and stores all data in a list\n",
    "second_data = []\n",
    "second_data.append(second_head.data)\n",
    "```\n",
    "\n",
    "#### Let's add the remaining data of \"L\" in \"second_data\"\n",
    "```\n",
    "next_node = second_head.next_item\n",
    "while next_node.next_item != second_head:  # it is a circularly linkedlist\n",
    "    second_data.append(next_node.data)\n",
    "    next_node = next_node.next_item\n",
    "```\n",
    "\n",
    "#### Now compare the two arrays =)\n",
    "```\n",
    "return first_data == second_data\n",
    "```"
   ]
  }
 ],
 "metadata": {
  "kernelspec": {
   "display_name": "Python 3 (ipykernel)",
   "language": "python",
   "name": "python3"
  },
  "language_info": {
   "codemirror_mode": {
    "name": "ipython",
    "version": 3
   },
   "file_extension": ".py",
   "mimetype": "text/x-python",
   "name": "python",
   "nbconvert_exporter": "python",
   "pygments_lexer": "ipython3",
   "version": "3.10.6"
  }
 },
 "nbformat": 4,
 "nbformat_minor": 5
}
