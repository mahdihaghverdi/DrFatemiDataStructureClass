{
 "cells": [
  {
   "cell_type": "markdown",
   "id": "89c38e85",
   "metadata": {},
   "source": [
    "# Find the lost number\n",
    "\n",
    "#### sort the array\n",
    "```\n",
    "sorted_array = sorted(A)\n",
    "```\n",
    "\n",
    "#### loop through the array and check if the next number of the current number is = number + 1, if not (number + 1) is the lost number\n",
    "```\n",
    "i = 0\n",
    "while i < (len(sorted_array) - 1):\n",
    "   first = sorted_array[i]\n",
    "   second = sorted_array[i + 1]\n",
    "   expected = first + 1\n",
    "\n",
    "   if expected != second:\n",
    "       return expected\n",
    "```"
   ]
  }
 ],
 "metadata": {
  "kernelspec": {
   "display_name": "Python 3 (ipykernel)",
   "language": "python",
   "name": "python3"
  },
  "language_info": {
   "codemirror_mode": {
    "name": "ipython",
    "version": 3
   },
   "file_extension": ".py",
   "mimetype": "text/x-python",
   "name": "python",
   "nbconvert_exporter": "python",
   "pygments_lexer": "ipython3",
   "version": "3.10.6"
  }
 },
 "nbformat": 4,
 "nbformat_minor": 5
}
